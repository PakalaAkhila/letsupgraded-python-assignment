{
  "nbformat": 4,
  "nbformat_minor": 0,
  "metadata": {
    "colab": {
      "provenance": [],
      "authorship_tag": "ABX9TyOY6h3dNM5humIv1z4l6omq",
      "include_colab_link": true
    },
    "kernelspec": {
      "name": "python3",
      "display_name": "Python 3"
    },
    "language_info": {
      "name": "python"
    }
  },
  "cells": [
    {
      "cell_type": "markdown",
      "metadata": {
        "id": "view-in-github",
        "colab_type": "text"
      },
      "source": [
        "<a href=\"https://colab.research.google.com/github/PakalaAkhila/letsupgraded-python-assignment/blob/main/progrma_which_has_function_to_find_out_a_number_is_prime_or_not.ipynb\" target=\"_parent\"><img src=\"https://colab.research.google.com/assets/colab-badge.svg\" alt=\"Open In Colab\"/></a>"
      ]
    },
    {
      "cell_type": "code",
      "execution_count": 1,
      "metadata": {
        "colab": {
          "base_uri": "https://localhost:8080/"
        },
        "id": "qTv9zRnFxMYD",
        "outputId": "64d87ec7-77cf-4b27-9b68-8c5220cc4707"
      },
      "outputs": [
        {
          "output_type": "stream",
          "name": "stdout",
          "text": [
            "enter a number: 6\n",
            "\n",
            "6is not a prime number\n"
          ]
        }
      ],
      "source": [
        "def checkprime(x):\n",
        "  for i in range(2,x):\n",
        "    if n%i==0:\n",
        "      return 1\n",
        "print(\"enter a number: \", end=\"\")\n",
        "n = int(input())\n",
        "p = checkprime(n)\n",
        "if p==1:\n",
        "  print(\"\\n\" +str(n)+ \"is not a prime number\")\n",
        "else:\n",
        "  print(\"\\n\" +str(n)+ \"is a prime number\")  \n"
      ]
    }
  ]
}